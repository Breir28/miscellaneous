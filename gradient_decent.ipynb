{
  "cells": [
    {
      "cell_type": "markdown",
      "metadata": {
        "id": "XyE7fXMo4Liq"
      },
      "source": [
        "#Gradient Decent für eine lineare Regression ohne Library"
      ]
    },
    {
      "cell_type": "code",
      "execution_count": 64,
      "metadata": {
        "id": "WTde8dG92WdY"
      },
      "outputs": [],
      "source": [
        "import random\n",
        "\n",
        "# Datenpunkte => y = 5x + 2\n",
        "X = [1, 2, 3, 4, 5, 6, 7, 8, 9]\n",
        "y = [7, 12, 17, 22, 27, 32, 37, 42, 47 ]\n",
        "y = [7, 12, 17, 22, 27, 32, 37, 42, 47 ]\n",
        "n = len(X) # Anzahl Datenpunkte\n",
        "\n",
        "# Hyperparameter\n",
        "learning_rate = 0.01  # Lerningrate\n",
        "epochs = 10000 # Anzahl Epochen\n",
        "\n",
        "# Zufällige Initialisierung von w und b\n",
        "w = random.random()\n",
        "b = random.random()\n",
        "\n",
        "# Forward pass\n",
        "def forward(X):\n",
        "    return [w * x_i + b for x_i in X]\n",
        "\n",
        "# loss = MSE\n",
        "def loss(y, y_pred):\n",
        "    return sum((y[i] - y_pred[i]) ** 2 for i in range(n)) / n\n",
        "\n",
        "# Backward pass (Gradienten berechnen) => Ableitung des Loss (MSE) nach w und b\n",
        "def backward(X, y, y_pred):\n",
        "    gradient_w = (-2 / n) * sum(X[i] * (y[i] - y_pred[i]) for i in range(n))  # d_loss/d_w\n",
        "    gradient_b = (-2 / n) * sum(y[i] - y_pred[i] for i in range(n)) # d_loss/d_b\n",
        "    return gradient_w, gradient_b"
      ]
    },
    {
      "cell_type": "code",
      "execution_count": 65,
      "metadata": {
        "colab": {
          "base_uri": "https://localhost:8080/"
        },
        "id": "2VLAwLit5gcl",
        "outputId": "21062f88-1afb-4b48-cc10-ae7eeaf46178"
      },
      "outputs": [
        {
          "output_type": "stream",
          "name": "stdout",
          "text": [
            "Loss after 1000 iterations: 6.181704639263159e-05\n",
            "Loss after 2000 iterations: 1.644637491846316e-08\n",
            "Loss after 3000 iterations: 4.375544670416831e-12\n",
            "Loss after 4000 iterations: 1.1641100840646534e-15\n",
            "Loss after 5000 iterations: 3.09710811983894e-19\n",
            "Loss after 6000 iterations: 8.239262221088018e-23\n",
            "Loss after 7000 iterations: 2.213894304896924e-26\n",
            "Loss after 8000 iterations: 3.3307460442664943e-28\n",
            "Loss after 9000 iterations: 3.3307460442664943e-28\n",
            "Loss after 10000 iterations: 3.3307460442664943e-28\n",
            "Optimales w: 5.000000000000007\n",
            "Optimales b: 1.9999999999999594\n"
          ]
        }
      ],
      "source": [
        "# Training\n",
        "for epoch in range(1, epochs+1):\n",
        "\n",
        "    # Forward Pass\n",
        "    y_pred = forward(X)\n",
        "\n",
        "    # Berechnung des Fehlers (MSE)\n",
        "    l = loss(y, y_pred)\n",
        "    if epoch % 1000 == 0:\n",
        "      print(f'Loss after {epoch} iterations: {l}')\n",
        "\n",
        "    # # Backward pass\n",
        "    gradient_w, gradient_b = backward(X, y, y_pred)\n",
        "\n",
        "    # Aktualisiere w und b\n",
        "    w -= learning_rate * gradient_w\n",
        "    b -= learning_rate * gradient_b\n",
        "\n",
        "# Ergebnis\n",
        "print(\"Optimales w:\", w)\n",
        "print(\"Optimales b:\", b)"
      ]
    },
    {
      "cell_type": "code",
      "execution_count": 66,
      "metadata": {
        "colab": {
          "base_uri": "https://localhost:8080/"
        },
        "id": "FTHZiBPr5mSZ",
        "outputId": "83fbf972-f3d1-4618-cc08-ba68d566c5f4"
      },
      "outputs": [
        {
          "output_type": "stream",
          "name": "stdout",
          "text": [
            "\n",
            "Vorhersage für x = 20 : 102.0000000000001\n"
          ]
        }
      ],
      "source": [
        "# Vorhersage\n",
        "x_test = 20\n",
        "prediction = w * x_test + b\n",
        "print(\"\\nVorhersage für x =\", x_test, \":\", prediction)"
      ]
    },
    {
      "cell_type": "markdown",
      "metadata": {
        "id": "Q4VFS2nN_6GM"
      },
      "source": [
        "#Gradient Decent für eine lineare Regression mit Pytorch"
      ]
    },
    {
      "cell_type": "code",
      "execution_count": 67,
      "metadata": {
        "id": "O1R1BDjzb28x"
      },
      "outputs": [],
      "source": [
        "import torch\n",
        "\n",
        "# Datenpunkte\n",
        "X = torch.tensor([1, 2, 3, 4, 5, 6, 7, 8, 9], dtype=torch.float32)\n",
        "y = torch.tensor([7, 12, 17, 22, 27, 32, 37, 42, 47], dtype=torch.float32)\n",
        "\n",
        "# Zufällige Initialisierung von w und b\n",
        "w = torch.rand(1, dtype=torch.float32, requires_grad=True)\n",
        "b = torch.rand(1, dtype=torch.float32, requires_grad=True)\n",
        "\n",
        "# Hyperparameter\n",
        "learning_rate = 0.01  # Lerningrate\n",
        "epochs = 10000 # Anzahl Epochen\n",
        "\n",
        "# Forward pass\n",
        "def forward(x):\n",
        "    return w * x + b\n",
        "\n",
        "# loss = MSE\n",
        "def loss(y, y_pred):\n",
        "    return ((y_pred - y)**2).mean()"
      ]
    },
    {
      "cell_type": "code",
      "execution_count": 68,
      "metadata": {
        "colab": {
          "base_uri": "https://localhost:8080/"
        },
        "id": "9lH3bqQef12U",
        "outputId": "aad603f6-fb90-4a48-a932-7870edd85ab2"
      },
      "outputs": [
        {
          "output_type": "stream",
          "name": "stdout",
          "text": [
            "Loss after 1000 iterations: 2.5637644784914926e-10\n",
            "Loss after 2000 iterations: 2.0210993523315374e-13\n",
            "Loss after 3000 iterations: 2.0210993523315374e-13\n",
            "Loss after 4000 iterations: 1.2631871460291877e-13\n",
            "Loss after 5000 iterations: 2.5263741904144217e-14\n",
            "Loss after 6000 iterations: 1.4147695601846033e-12\n",
            "Loss after 7000 iterations: 2.0210993523315374e-13\n",
            "Loss after 8000 iterations: 2.0210993523315374e-13\n",
            "Loss after 9000 iterations: 1.4147695601846033e-12\n",
            "Loss after 10000 iterations: 2.5263741904144217e-14\n",
            "Optimales w: 5.0\n",
            "Optimales b: 1.999999761581421\n"
          ]
        }
      ],
      "source": [
        "# Training\n",
        "for epoch in range(1, epochs+1):\n",
        "\n",
        "    # Forward pass\n",
        "    y_pred = forward(X)\n",
        "\n",
        "    #  Berechnung des Fehlers (MSE)\n",
        "    l = loss(y, y_pred)\n",
        "    if epoch % 1000 == 0:\n",
        "      print(f'Loss after {epoch} iterations: {l}')\n",
        "\n",
        "    # Backward pass (Gradienten berechnen) => Ableitung von MSE nach w und b\n",
        "    l.backward()\n",
        "\n",
        "    # Aktualisiere w und b\n",
        "    with torch.no_grad():\n",
        "      w -= learning_rate * w.grad\n",
        "      b -= learning_rate * b.grad\n",
        "\n",
        "    # Gradienten nach Aktualisierung wieder auf 0 setzen\n",
        "    w.grad.zero_()\n",
        "\n",
        "# Ergebnis\n",
        "print(\"Optimales w:\", w[0].item())\n",
        "print(\"Optimales b:\", b[0].item())"
      ]
    },
    {
      "cell_type": "code",
      "execution_count": 69,
      "metadata": {
        "colab": {
          "base_uri": "https://localhost:8080/"
        },
        "id": "e7XC95csf_wb",
        "outputId": "d37a1a1d-4f73-4e9c-9bd2-3f3108534bfa"
      },
      "outputs": [
        {
          "output_type": "stream",
          "name": "stdout",
          "text": [
            "\n",
            "Vorhersage für x = 20 : 102.0\n"
          ]
        }
      ],
      "source": [
        "# Vorhersage\n",
        "x_test = 20\n",
        "prediction = w * x_test + b\n",
        "print(\"\\nVorhersage für x =\", x_test, \":\", prediction[0].item())"
      ]
    },
    {
      "cell_type": "markdown",
      "metadata": {
        "id": "Ox8Few0GPDC8"
      },
      "source": [
        "#Lineare Regresson mit neuronales Netzwerk mit Pytorch"
      ]
    },
    {
      "cell_type": "code",
      "execution_count": 70,
      "metadata": {
        "id": "PQ1vTis2PB6q"
      },
      "outputs": [],
      "source": [
        "import torch\n",
        "import torch.nn as nn\n",
        "import torch.optim as optim\n",
        "\n",
        "# Datenpunkte\n",
        "X = torch.tensor([1, 2, 3, 4, 5, 6, 7, 8, 9], dtype=torch.float32).unsqueeze(1)\n",
        "y = torch.tensor([7, 12, 17, 22, 27, 32, 37, 42, 47], dtype=torch.float32).unsqueeze(1)\n",
        "\n",
        "# Modell erstellen\n",
        "class LinearRegressionModel(nn.Module):\n",
        "    def __init__(self):\n",
        "        super(LinearRegressionModel, self).__init__()\n",
        "        self.linear = nn.Linear(1, 1)  # Einfaches lineares Modell (1 Eingabe, 1 Ausgabe)\n",
        "\n",
        "    def forward(self, x):\n",
        "        return self.linear(x)\n",
        "\n",
        "# Modell instanziieren\n",
        "model = LinearRegressionModel()\n",
        "\n",
        "# Verlustfunktion und Optimierer einrichten\n",
        "criterion = nn.MSELoss()  # Mean Squared Error als Verlustfunktion\n",
        "optimizer = optim.SGD(model.parameters(), lr=0.01)  # Stochastischer Gradientenabstieg als Optimierer"
      ]
    },
    {
      "cell_type": "code",
      "execution_count": 71,
      "metadata": {
        "colab": {
          "base_uri": "https://localhost:8080/"
        },
        "id": "mnPRyD70RdxQ",
        "outputId": "a72a5a6b-c8a7-4fb3-fd16-75497c072823"
      },
      "outputs": [
        {
          "output_type": "stream",
          "name": "stdout",
          "text": [
            "torch.Size([1, 1])\n",
            "-0.42602241039276123\n",
            "torch.Size([1])\n",
            "0.6538351774215698\n"
          ]
        }
      ],
      "source": [
        "print(model.linear.weight.shape)\n",
        "print(model.linear.weight.item())\n",
        "print(model.linear.bias.shape)\n",
        "print(model.linear.bias.item())"
      ]
    },
    {
      "cell_type": "code",
      "execution_count": 72,
      "metadata": {
        "colab": {
          "base_uri": "https://localhost:8080/"
        },
        "id": "qKYpkgqCQQZO",
        "outputId": "08d7eccc-35d9-439f-a4c7-aad8533460f5"
      },
      "outputs": [
        {
          "output_type": "stream",
          "name": "stdout",
          "text": [
            "Epoch 1000, Loss: 1.2578773748828098e-05\n",
            "Epoch 2000, Loss: 3.377787605174376e-09\n",
            "Epoch 3000, Loss: 9.600222006245218e-11\n",
            "Epoch 4000, Loss: 9.600222006245218e-11\n",
            "Epoch 5000, Loss: 9.600222006245218e-11\n",
            "Epoch 6000, Loss: 9.600222006245218e-11\n",
            "Epoch 7000, Loss: 9.600222006245218e-11\n",
            "Epoch 8000, Loss: 9.600222006245218e-11\n",
            "Epoch 9000, Loss: 9.600222006245218e-11\n",
            "Epoch 10000, Loss: 9.600222006245218e-11\n",
            "Lernte Gewicht m: 5.000003814697266\n",
            "Gelernter Bias b: 1.9999781847000122\n"
          ]
        }
      ],
      "source": [
        "# Training\n",
        "epochs = 10000\n",
        "losses = []\n",
        "\n",
        "for epoch in range(1, epochs+1):\n",
        "\n",
        "    # Forward pass\n",
        "    outputs = model(X)\n",
        "\n",
        "    # Verlust berechnen\n",
        "    loss = criterion(outputs, y)\n",
        "\n",
        "    # Gradienten zurücksetzen\n",
        "    optimizer.zero_grad()\n",
        "\n",
        "    # Backward pass => Ableitungen berchnen\n",
        "    loss.backward()\n",
        "\n",
        "    # Optimizer Schritt ausführen => Gewichte aktualisieren\n",
        "    optimizer.step()\n",
        "\n",
        "    # Loss anzeigen\n",
        "    if epoch % 1000 == 0:\n",
        "        print(f\"Epoch {epoch}, Loss: {loss.item()}\")\n",
        "\n",
        "# Parameter ausgeben\n",
        "print(\"Lernte Gewicht m:\", model.linear.weight.item())\n",
        "print(\"Gelernter Bias b:\", model.linear.bias.item())\n"
      ]
    },
    {
      "cell_type": "code",
      "execution_count": 73,
      "metadata": {
        "colab": {
          "base_uri": "https://localhost:8080/"
        },
        "id": "jDHZ_ftGVy33",
        "outputId": "d10e64be-2537-40b2-cee0-fbd4b8dee401"
      },
      "outputs": [
        {
          "output_type": "stream",
          "name": "stdout",
          "text": [
            "torch.Size([1, 1])\n",
            "5.000003814697266\n",
            "torch.Size([1])\n",
            "1.9999781847000122\n",
            "[Parameter containing:\n",
            "tensor([[5.0000]], requires_grad=True), Parameter containing:\n",
            "tensor([2.0000], requires_grad=True)]\n"
          ]
        }
      ],
      "source": [
        "print(model.linear.weight.shape)\n",
        "print(model.linear.weight.item())\n",
        "print(model.linear.bias.shape)\n",
        "print(model.linear.bias.item())\n",
        "print(list(model.parameters()))"
      ]
    },
    {
      "cell_type": "code",
      "execution_count": 74,
      "metadata": {
        "colab": {
          "base_uri": "https://localhost:8080/"
        },
        "id": "xS6cpEx1QUnE",
        "outputId": "32317ca9-e3a3-4484-eb97-5ac1fab4deba"
      },
      "outputs": [
        {
          "output_type": "stream",
          "name": "stdout",
          "text": [
            "\n",
            "Vorhersage für x = 20 : 102.0\n"
          ]
        }
      ],
      "source": [
        "# Vorhersage\n",
        "x_test = 20\n",
        "prediction = w * x_test + b\n",
        "print(\"\\nVorhersage für x =\", x_test, \":\", prediction[0].item())"
      ]
    },
    {
      "cell_type": "markdown",
      "metadata": {
        "id": "14oTU71pa4di"
      },
      "source": [
        "#Lineare Regression mit Sklearn"
      ]
    },
    {
      "cell_type": "code",
      "execution_count": 75,
      "metadata": {
        "colab": {
          "base_uri": "https://localhost:8080/",
          "height": 508
        },
        "id": "bKv7_ukNaORj",
        "outputId": "cd3c1f32-885d-4676-8d21-c572c8ff0f2b"
      },
      "outputs": [
        {
          "output_type": "stream",
          "name": "stdout",
          "text": [
            "Steigung (w): 5.000000000000001\n",
            "Y-Achsenabschnitt (b): 1.9999999999999964\n"
          ]
        },
        {
          "output_type": "display_data",
          "data": {
            "text/plain": [
              "<Figure size 640x480 with 1 Axes>"
            ],
            "image/png": "[encoded data removed]"
          },
          "metadata": {}
        }
      ],
      "source": [
        "import random\n",
        "import numpy as np\n",
        "import matplotlib.pyplot as plt\n",
        "from sklearn.linear_model import SGDRegressor # LinearRegression (analytische Lösung)\n",
        "\n",
        "# Datenpunkte\n",
        "X = np.array([1, 2, 3, 4, 5, 6, 7, 8, 9]).reshape(-1, 1)  # scikit-learn erwartet 2D-Arrays\n",
        "y = np.array([7, 12, 17, 22, 27, 32, 37, 42, 47])\n",
        "\n",
        "# Lineare Regression mit sklearn\n",
        "model = LinearRegression()\n",
        "model.fit(X, y)  # Training des Modells\n",
        "\n",
        "# Vorhersagen erstellen\n",
        "y_pred = model.predict(X)\n",
        "\n",
        "# Modellparameter\n",
        "w = model.coef_[0]  # Gewicht (Steigung)\n",
        "b = model.intercept_  # Bias (y-Achsenabschnitt)\n",
        "\n",
        "print(f\"Steigung (w): {w}\")\n",
        "print(f\"Y-Achsenabschnitt (b): {b}\")\n",
        "\n",
        "# Visualisierung der Ergebnisse\n",
        "plt.scatter(X, y, color=\"blue\", label=\"Datenpunkte\")  # Originaldatenpunkte\n",
        "plt.plot(X, y_pred, color=\"red\", label=\"Lineare Regression\")  # Regressionslinie\n",
        "plt.xlabel(\"X\")\n",
        "plt.ylabel(\"y\")\n",
        "plt.legend()\n",
        "plt.title(\"Lineare Regression mit sklearn\")\n",
        "plt.show()"
      ]
    }
  ],
  "metadata": {
    "colab": {
      "provenance": []
    },
    "kernelspec": {
      "display_name": "Python 3",
      "name": "python3"
    },
    "language_info": {
      "name": "python"
    }
  },
  "nbformat": 4,
  "nbformat_minor": 0
}